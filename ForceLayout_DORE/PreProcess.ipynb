{
 "cells": [
  {
   "cell_type": "markdown",
   "metadata": {},
   "source": [
    "# Document-document Distance Matrix\n",
    "\n",
    "## Import packages"
   ]
  },
  {
   "cell_type": "code",
   "execution_count": 1,
   "metadata": {},
   "outputs": [],
   "source": [
    "import numpy as np\n",
    "import pandas as pd\n",
    "import string\n",
    "import re\n",
    "from gensim.utils import lemmatize, simple_preprocess\n",
    "from sklearn.feature_extraction.text import TfidfVectorizer, CountVectorizer\n",
    "import collections\n",
    "from scipy.spatial.distance import pdist\n",
    "from scipy.spatial.distance import squareform\n",
    "from nltk.corpus import stopwords\n",
    "stop_words = stopwords.words('portuguese')\n",
    "stop_words.extend(['janeiro','fevereiro','março','abril','maio','junho','julho','agosto','setembro','outubro','novembro','dezembro','recife'])\n"
   ]
  },
  {
   "cell_type": "code",
   "execution_count": 2,
   "metadata": {},
   "outputs": [],
   "source": [
    "qnt = 1000"
   ]
  },
  {
   "cell_type": "markdown",
   "metadata": {},
   "source": [
    "## Import dataset"
   ]
  },
  {
   "cell_type": "code",
   "execution_count": 3,
   "metadata": {},
   "outputs": [
    {
     "data": {
      "text/plain": [
       "0      LEI Nº 17.597 /2009  EMENTA: DISPÕE SOBRE A SE...\n",
       "1      DECRETO Nº 25.024 DE 30 DE DEZEMBRODE 2009  EM...\n",
       "2      PORTARIA Nº 3130 DE 30 DE DEZEMBRO DE  2009  O...\n",
       "3      º 18012078.    PORTARIA Nº 3137 DE 30 DE DEZEM...\n",
       "4      esenvolvimento Urbano e Ambiental, a contar da...\n",
       "                             ...                        \n",
       "995    a oitenta e sete por cento), do valor global d...\n",
       "996    DESPACHOS EXARADOS P/ GABINETE DO SECRETARIO  ...\n",
       "997    FUNDAÇÃO DE CULTURA CIDADE DO RECIFE  GERÊNCIA...\n",
       "998    FUNDAÇÃO DE CULTURA CIDADE DO RECIFE  Núcleo d...\n",
       "999    o Recife.    3 - DA APRESENTAÇÃO  3.1.A aprese...\n",
       "Name: conteudo, Length: 1000, dtype: object"
      ]
     },
     "execution_count": 3,
     "metadata": {},
     "output_type": "execute_result"
    }
   ],
   "source": [
    "data = pd.read_csv(\"dore_2009_proc.csv\")\n",
    "data.head()\n",
    "\n",
    "dtext = data[\"conteudo\"]\n",
    "dtext = dtext[:qnt]\n",
    "\n",
    "dlabel = data[\"int_label\"]\n",
    "dlabel = dlabel[:qnt]\n",
    "\n",
    "dsecao = data[\"secao\"]\n",
    "dsecao = dsecao[:qnt]\n",
    "\n",
    "dtext\n",
    "\n"
   ]
  },
  {
   "cell_type": "markdown",
   "metadata": {},
   "source": [
    "## Clean dataset\n",
    "\n"
   ]
  },
  {
   "cell_type": "code",
   "execution_count": 4,
   "metadata": {},
   "outputs": [],
   "source": [
    "def cleanText(text):\n",
    "   \n",
    "    text = text.translate(str.maketrans(string.punctuation, ' ' * len(string.punctuation)))  # Remove Punctuations\n",
    "    text = text.lower()  # Lower case\n",
    "    text = re.sub(r'[0-9]' , \"\", text)\n",
    "    text = re.sub('\\s+', ' ', text).strip()  # Remove new line, Tab and double spaces\n",
    "    text = re.sub(r'\\b.{2}\\b', ' ', text).strip() # remove terms less than 2 chars in length\n",
    "    return text\n",
    "\n",
    "\n",
    "\n"
   ]
  },
  {
   "cell_type": "markdown",
   "metadata": {},
   "source": [
    "## get corpus"
   ]
  },
  {
   "cell_type": "code",
   "execution_count": 5,
   "metadata": {},
   "outputs": [
    {
     "data": {
      "text/plain": [
       "'decreto       dezembrode ementa abre crédito suplementar  prefeito   cidade   recife   uso das atribuições que lhe confere  inciso     artigo   lei orgânica municipal     abril    tendo   vista  que dispõem  artigo   artigo   inciso iii   artigo   lei       dezembro          art  fica aberto   orçamento   secretaria   educação esporte  lazer  crédito suplementar    trezentos  dez mil cento  vinte  sete reais  oitenta  três centavos destinado   reforço   seguinte dotação orçamentária recursos   tesouro    secretaria   educação esporte  lazer secretaria   educação esporte  lazer administração direta universalização  qualificação   ensino fundamental   material   consumo total art    recursos  serem utilizados para atendimento   que determina  artigo anterior serão anulados das dotações orçamentárias discriminadas  seguir recursos   tesouro    secretaria   educação esporte  lazer secretaria   educação esporte  lazer administração direta incorporação das tecnologias   informação    comunicação aos processos educacionais   rede municipal   ensino   locação   mão   obra   outros serviços   terceiros pessoa jurídica adequação  manutenção física   rede municipal   ensino   outros serviços   terceiros pessoa física   outros serviços   terceiros pessoa jurídica encargos com benefícios aos servidores   setor educacional   outros serviços   terceiros pessoa jurídica universalização  qualificação   ensino fundamental   vencimentos  vantagens fixas pessoal civil   outras despesas variáveis pessoal civil   equipamentos  material permanente ampliação  desenvolvimento   educação infantil   subvenções sociais   equipamentos  material permanente implementação   mecanismos   inclusão escolar para estudantes com deficiências específicas   outros serviços   terceiros pessoa física total art  este decreto entrará   vigor   data   sua publicação recife   dezembro   joão   costa bezerra filho prefeito ângela maria távora weber assessora executiva   secretaria   finanças evelyne labanca corrêa   araújo secretaria especial   gestão  planejamento ricardo pedrosa soriano   oliveira secretaria   assuntos jurídicos'"
      ]
     },
     "execution_count": 5,
     "metadata": {},
     "output_type": "execute_result"
    }
   ],
   "source": [
    "# create corpus\n",
    "\n",
    "corpus = []\n",
    "for i in dtext:    \n",
    "    documentText = cleanText(i)\n",
    "    corpus.append(documentText)\n",
    "    \n",
    "corpus[1]"
   ]
  },
  {
   "cell_type": "markdown",
   "metadata": {},
   "source": [
    "## get TF-IDF"
   ]
  },
  {
   "cell_type": "code",
   "execution_count": 6,
   "metadata": {},
   "outputs": [],
   "source": [
    "ngram = 1\n",
    "allWords = {}\n",
    "#get tfidf\n",
    "    \n",
    "tfidf_vectorizer = TfidfVectorizer(ngram_range=(1, ngram), min_df=2, stop_words=stop_words)\n",
    "tfidf = tfidf_vectorizer.fit_transform(corpus)\n",
    "tfidf_feature_names = tfidf_vectorizer.get_feature_names()\n",
    "tfidf_feature_names_hashmap = {}\n",
    "\n",
    "# tfidf feature names hashmap\n",
    "for i in range(0, len(tfidf_feature_names)):\n",
    "    tfidf_feature_names_hashmap[tfidf_feature_names[i]] = i\n",
    "\n",
    "#filter based on the mean tf/idf\n",
    "tfidf_mean = tfidf.mean(0).mean()\n",
    "words_tfidf = tfidf.mean(0)\n",
    "for index, item in enumerate(np.nditer(words_tfidf)):\n",
    "    if item > tfidf_mean:\n",
    "        allWords[tfidf_feature_names[index]] = 0\n",
    "\n",
    "allWordsSorted = collections.OrderedDict(sorted(allWords.items()))"
   ]
  },
  {
   "cell_type": "markdown",
   "metadata": {},
   "source": [
    "## create document document matrix"
   ]
  },
  {
   "cell_type": "code",
   "execution_count": 7,
   "metadata": {},
   "outputs": [],
   "source": [
    "#create document term matrix (out)\n",
    "document_term_matrix = \"\"\n",
    "for i in range(0, qnt):\n",
    "    line = \"\"\n",
    "    tfidf_hashmap = {}\n",
    "    for col in tfidf.getrow(i).nonzero()[1]:\n",
    "        if tfidf_feature_names[col] in allWordsSorted:\n",
    "            tfidf_hashmap[col] = tfidf[i, col]\n",
    "\n",
    "    for word, score in allWordsSorted.items():\n",
    "        word_index = tfidf_feature_names_hashmap.get(word)\n",
    "        if tfidf_feature_names_hashmap.get(word) in tfidf_hashmap:\n",
    "            line += str(tfidf_hashmap.get(word_index)) + \",\"\n",
    "        else:\n",
    "            line += \"0.0,\"\n",
    "    line = line[0:line.rindex(',')]\n",
    "    document_term_matrix += line + '\\n'"
   ]
  },
  {
   "cell_type": "code",
   "execution_count": 8,
   "metadata": {
    "scrolled": true
   },
   "outputs": [],
   "source": [
    "#write document term matrix to file\n",
    "document_term_matrix_file = open(\"teste\" + \".Matrix\", 'w')\n",
    "document_term_matrix_file.write(document_term_matrix)\n",
    "document_term_matrix_file.close()"
   ]
  },
  {
   "cell_type": "code",
   "execution_count": 9,
   "metadata": {},
   "outputs": [
    {
     "name": "stdout",
     "output_type": "stream",
     "text": [
      "DEU CERTO!\n"
     ]
    }
   ],
   "source": [
    "def read_term_document_matrix(path, type=\"tf\"):\n",
    "    \"\"\"\n",
    "    read document-term matrix (comma separate)\n",
    "    :param path: path to matrix\n",
    "    :param type: if it is word count of tf/idf value (count or tf)\n",
    "    :return: 2D matrix (list of list)\n",
    "    \"\"\"\n",
    "    document_term_matrix_file = open(path, 'r')\n",
    "    matrix = []\n",
    "    for line in document_term_matrix_file:\n",
    "        if type == \"count\":\n",
    "            line = line.replace('\\r','').replace('\\n','').replace('0.0','0')\n",
    "        else:\n",
    "            line = line.replace('\\r', '').replace('\\n', '')\n",
    "        columns = line.split(',')\n",
    "        row = []\n",
    "        for column in columns:\n",
    "            row.append(column)\n",
    "        matrix.append(row)\n",
    "    return matrix\n",
    "\n",
    "\n",
    "\n",
    "#create document-document distance file\n",
    "document_term_matrix = np.asarray(read_term_document_matrix(\"teste\" + \".Matrix\"), dtype=float)\n",
    "documents_distance = squareform(pdist(document_term_matrix, 'cosine'))\n",
    "documents_distance_path = \"documentDistance\"+ str(qnt)\n",
    "documents_distance_file = open(documents_distance_path, \"w\")\n",
    "for i in range(len(document_term_matrix)):\n",
    "    for j in range(len(document_term_matrix)):\n",
    "        if j == 0:\n",
    "            documents_distance_file.write(str(documents_distance[i][j]))\n",
    "        else:\n",
    "            documents_distance_file.write(\",\" + str(documents_distance[i][j]))\n",
    "    documents_distance_file.write(\"\\n\")\n",
    "documents_distance_file.close()\n",
    "\n",
    "#create labels file\n",
    "documents_distance_path = \"label\"+ str(qnt)\n",
    "documents_distance_file = open(documents_distance_path, \"w\")\n",
    "for i in range(len(dlabel)):\n",
    "    documents_distance_file.write(str(dlabel[i]) + \"\\n\")\n",
    "documents_distance_file.close()\n",
    "\n",
    "#create Secao file\n",
    "\n",
    "documents_distance_path = \"secao\"+ str(qnt)\n",
    "documents_distance_file = open(documents_distance_path, \"w\")\n",
    "for i in range(len(dsecao)):\n",
    "    documents_distance_file.write(str(dsecao[i]) + \"\\n\")\n",
    "documents_distance_file.close()\n",
    "\n",
    "#create Conteudo file\n",
    "\n",
    "documents_distance_path = \"conteudo\"+ str(qnt)\n",
    "documents_distance_file = open(documents_distance_path, \"w\")\n",
    "for i in range(len(dtext)):\n",
    "    documents_distance_file.write(str(dtext[i]) + \"\\n\")\n",
    "documents_distance_file.close()\n",
    "\n",
    "print(\"DEU CERTO!\")"
   ]
  },
  {
   "cell_type": "code",
   "execution_count": null,
   "metadata": {},
   "outputs": [],
   "source": []
  }
 ],
 "metadata": {
  "kernelspec": {
   "display_name": "Python 3",
   "language": "python",
   "name": "python3"
  },
  "language_info": {
   "codemirror_mode": {
    "name": "ipython",
    "version": 3
   },
   "file_extension": ".py",
   "mimetype": "text/x-python",
   "name": "python",
   "nbconvert_exporter": "python",
   "pygments_lexer": "ipython3",
   "version": "3.8.2"
  }
 },
 "nbformat": 4,
 "nbformat_minor": 4
}
